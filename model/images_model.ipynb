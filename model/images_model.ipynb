{
 "cells": [
  {
   "cell_type": "code",
   "execution_count": 2,
   "id": "1a5ee0c4",
   "metadata": {},
   "outputs": [
    {
     "name": "stderr",
     "output_type": "stream",
     "text": [
      "<>:15: SyntaxWarning: invalid escape sequence '\\d'\n",
      "<>:15: SyntaxWarning: invalid escape sequence '\\d'\n",
      "C:\\Users\\AI-DEL\\AppData\\Local\\Temp\\ipykernel_1984\\3607511371.py:15: SyntaxWarning: invalid escape sequence '\\d'\n",
      "  DATASET_PATH = 'subcategory_images\\dataset'\n"
     ]
    },
    {
     "data": {
      "text/html": [
       "<pre style=\"white-space:pre;overflow-x:auto;line-height:normal;font-family:Menlo,'DejaVu Sans Mono',consolas,'Courier New',monospace\"><span style=\"font-weight: bold\">Model: \"functional_1\"</span>\n",
       "</pre>\n"
      ],
      "text/plain": [
       "\u001b[1mModel: \"functional_1\"\u001b[0m\n"
      ]
     },
     "metadata": {},
     "output_type": "display_data"
    },
    {
     "data": {
      "text/html": [
       "<pre style=\"white-space:pre;overflow-x:auto;line-height:normal;font-family:Menlo,'DejaVu Sans Mono',consolas,'Courier New',monospace\">┏━━━━━━━━━━━━━━━━━━━━━┳━━━━━━━━━━━━━━━━━━━┳━━━━━━━━━━━━┳━━━━━━━━━━━━━━━━━━━┓\n",
       "┃<span style=\"font-weight: bold\"> Layer (type)        </span>┃<span style=\"font-weight: bold\"> Output Shape      </span>┃<span style=\"font-weight: bold\">    Param # </span>┃<span style=\"font-weight: bold\"> Connected to      </span>┃\n",
       "┡━━━━━━━━━━━━━━━━━━━━━╇━━━━━━━━━━━━━━━━━━━╇━━━━━━━━━━━━╇━━━━━━━━━━━━━━━━━━━┩\n",
       "│ input_layer_2       │ (<span style=\"color: #00d7ff; text-decoration-color: #00d7ff\">None</span>, <span style=\"color: #00af00; text-decoration-color: #00af00\">224</span>, <span style=\"color: #00af00; text-decoration-color: #00af00\">224</span>,  │          <span style=\"color: #00af00; text-decoration-color: #00af00\">0</span> │ -                 │\n",
       "│ (<span style=\"color: #0087ff; text-decoration-color: #0087ff\">InputLayer</span>)        │ <span style=\"color: #00af00; text-decoration-color: #00af00\">3</span>)                │            │                   │\n",
       "├─────────────────────┼───────────────────┼────────────┼───────────────────┤\n",
       "│ efficientnetb0      │ (<span style=\"color: #00d7ff; text-decoration-color: #00d7ff\">None</span>, <span style=\"color: #00af00; text-decoration-color: #00af00\">7</span>, <span style=\"color: #00af00; text-decoration-color: #00af00\">7</span>,      │  <span style=\"color: #00af00; text-decoration-color: #00af00\">4,049,571</span> │ input_layer_2[<span style=\"color: #00af00; text-decoration-color: #00af00\">0</span>]… │\n",
       "│ (<span style=\"color: #0087ff; text-decoration-color: #0087ff\">Functional</span>)        │ <span style=\"color: #00af00; text-decoration-color: #00af00\">1280</span>)             │            │                   │\n",
       "├─────────────────────┼───────────────────┼────────────┼───────────────────┤\n",
       "│ global_average_poo… │ (<span style=\"color: #00d7ff; text-decoration-color: #00d7ff\">None</span>, <span style=\"color: #00af00; text-decoration-color: #00af00\">1280</span>)      │          <span style=\"color: #00af00; text-decoration-color: #00af00\">0</span> │ efficientnetb0[<span style=\"color: #00af00; text-decoration-color: #00af00\">0</span>… │\n",
       "│ (<span style=\"color: #0087ff; text-decoration-color: #0087ff\">GlobalAveragePool…</span> │                   │            │                   │\n",
       "├─────────────────────┼───────────────────┼────────────┼───────────────────┤\n",
       "│ dense (<span style=\"color: #0087ff; text-decoration-color: #0087ff\">Dense</span>)       │ (<span style=\"color: #00d7ff; text-decoration-color: #00d7ff\">None</span>, <span style=\"color: #00af00; text-decoration-color: #00af00\">512</span>)       │    <span style=\"color: #00af00; text-decoration-color: #00af00\">655,872</span> │ global_average_p… │\n",
       "├─────────────────────┼───────────────────┼────────────┼───────────────────┤\n",
       "│ batch_normalization │ (<span style=\"color: #00d7ff; text-decoration-color: #00d7ff\">None</span>, <span style=\"color: #00af00; text-decoration-color: #00af00\">512</span>)       │      <span style=\"color: #00af00; text-decoration-color: #00af00\">2,048</span> │ dense[<span style=\"color: #00af00; text-decoration-color: #00af00\">0</span>][<span style=\"color: #00af00; text-decoration-color: #00af00\">0</span>]       │\n",
       "│ (<span style=\"color: #0087ff; text-decoration-color: #0087ff\">BatchNormalizatio…</span> │                   │            │                   │\n",
       "├─────────────────────┼───────────────────┼────────────┼───────────────────┤\n",
       "│ dropout (<span style=\"color: #0087ff; text-decoration-color: #0087ff\">Dropout</span>)   │ (<span style=\"color: #00d7ff; text-decoration-color: #00d7ff\">None</span>, <span style=\"color: #00af00; text-decoration-color: #00af00\">512</span>)       │          <span style=\"color: #00af00; text-decoration-color: #00af00\">0</span> │ batch_normalizat… │\n",
       "├─────────────────────┼───────────────────┼────────────┼───────────────────┤\n",
       "│ subcat_output       │ (<span style=\"color: #00d7ff; text-decoration-color: #00d7ff\">None</span>, <span style=\"color: #00af00; text-decoration-color: #00af00\">11</span>)        │      <span style=\"color: #00af00; text-decoration-color: #00af00\">5,643</span> │ dropout[<span style=\"color: #00af00; text-decoration-color: #00af00\">0</span>][<span style=\"color: #00af00; text-decoration-color: #00af00\">0</span>]     │\n",
       "│ (<span style=\"color: #0087ff; text-decoration-color: #0087ff\">Dense</span>)             │                   │            │                   │\n",
       "├─────────────────────┼───────────────────┼────────────┼───────────────────┤\n",
       "│ cat_output (<span style=\"color: #0087ff; text-decoration-color: #0087ff\">Dense</span>)  │ (<span style=\"color: #00d7ff; text-decoration-color: #00d7ff\">None</span>, <span style=\"color: #00af00; text-decoration-color: #00af00\">3</span>)         │      <span style=\"color: #00af00; text-decoration-color: #00af00\">1,539</span> │ dropout[<span style=\"color: #00af00; text-decoration-color: #00af00\">0</span>][<span style=\"color: #00af00; text-decoration-color: #00af00\">0</span>]     │\n",
       "└─────────────────────┴───────────────────┴────────────┴───────────────────┘\n",
       "</pre>\n"
      ],
      "text/plain": [
       "┏━━━━━━━━━━━━━━━━━━━━━┳━━━━━━━━━━━━━━━━━━━┳━━━━━━━━━━━━┳━━━━━━━━━━━━━━━━━━━┓\n",
       "┃\u001b[1m \u001b[0m\u001b[1mLayer (type)       \u001b[0m\u001b[1m \u001b[0m┃\u001b[1m \u001b[0m\u001b[1mOutput Shape     \u001b[0m\u001b[1m \u001b[0m┃\u001b[1m \u001b[0m\u001b[1m   Param #\u001b[0m\u001b[1m \u001b[0m┃\u001b[1m \u001b[0m\u001b[1mConnected to     \u001b[0m\u001b[1m \u001b[0m┃\n",
       "┡━━━━━━━━━━━━━━━━━━━━━╇━━━━━━━━━━━━━━━━━━━╇━━━━━━━━━━━━╇━━━━━━━━━━━━━━━━━━━┩\n",
       "│ input_layer_2       │ (\u001b[38;5;45mNone\u001b[0m, \u001b[38;5;34m224\u001b[0m, \u001b[38;5;34m224\u001b[0m,  │          \u001b[38;5;34m0\u001b[0m │ -                 │\n",
       "│ (\u001b[38;5;33mInputLayer\u001b[0m)        │ \u001b[38;5;34m3\u001b[0m)                │            │                   │\n",
       "├─────────────────────┼───────────────────┼────────────┼───────────────────┤\n",
       "│ efficientnetb0      │ (\u001b[38;5;45mNone\u001b[0m, \u001b[38;5;34m7\u001b[0m, \u001b[38;5;34m7\u001b[0m,      │  \u001b[38;5;34m4,049,571\u001b[0m │ input_layer_2[\u001b[38;5;34m0\u001b[0m]… │\n",
       "│ (\u001b[38;5;33mFunctional\u001b[0m)        │ \u001b[38;5;34m1280\u001b[0m)             │            │                   │\n",
       "├─────────────────────┼───────────────────┼────────────┼───────────────────┤\n",
       "│ global_average_poo… │ (\u001b[38;5;45mNone\u001b[0m, \u001b[38;5;34m1280\u001b[0m)      │          \u001b[38;5;34m0\u001b[0m │ efficientnetb0[\u001b[38;5;34m0\u001b[0m… │\n",
       "│ (\u001b[38;5;33mGlobalAveragePool…\u001b[0m │                   │            │                   │\n",
       "├─────────────────────┼───────────────────┼────────────┼───────────────────┤\n",
       "│ dense (\u001b[38;5;33mDense\u001b[0m)       │ (\u001b[38;5;45mNone\u001b[0m, \u001b[38;5;34m512\u001b[0m)       │    \u001b[38;5;34m655,872\u001b[0m │ global_average_p… │\n",
       "├─────────────────────┼───────────────────┼────────────┼───────────────────┤\n",
       "│ batch_normalization │ (\u001b[38;5;45mNone\u001b[0m, \u001b[38;5;34m512\u001b[0m)       │      \u001b[38;5;34m2,048\u001b[0m │ dense[\u001b[38;5;34m0\u001b[0m][\u001b[38;5;34m0\u001b[0m]       │\n",
       "│ (\u001b[38;5;33mBatchNormalizatio…\u001b[0m │                   │            │                   │\n",
       "├─────────────────────┼───────────────────┼────────────┼───────────────────┤\n",
       "│ dropout (\u001b[38;5;33mDropout\u001b[0m)   │ (\u001b[38;5;45mNone\u001b[0m, \u001b[38;5;34m512\u001b[0m)       │          \u001b[38;5;34m0\u001b[0m │ batch_normalizat… │\n",
       "├─────────────────────┼───────────────────┼────────────┼───────────────────┤\n",
       "│ subcat_output       │ (\u001b[38;5;45mNone\u001b[0m, \u001b[38;5;34m11\u001b[0m)        │      \u001b[38;5;34m5,643\u001b[0m │ dropout[\u001b[38;5;34m0\u001b[0m][\u001b[38;5;34m0\u001b[0m]     │\n",
       "│ (\u001b[38;5;33mDense\u001b[0m)             │                   │            │                   │\n",
       "├─────────────────────┼───────────────────┼────────────┼───────────────────┤\n",
       "│ cat_output (\u001b[38;5;33mDense\u001b[0m)  │ (\u001b[38;5;45mNone\u001b[0m, \u001b[38;5;34m3\u001b[0m)         │      \u001b[38;5;34m1,539\u001b[0m │ dropout[\u001b[38;5;34m0\u001b[0m][\u001b[38;5;34m0\u001b[0m]     │\n",
       "└─────────────────────┴───────────────────┴────────────┴───────────────────┘\n"
      ]
     },
     "metadata": {},
     "output_type": "display_data"
    },
    {
     "data": {
      "text/html": [
       "<pre style=\"white-space:pre;overflow-x:auto;line-height:normal;font-family:Menlo,'DejaVu Sans Mono',consolas,'Courier New',monospace\"><span style=\"font-weight: bold\"> Total params: </span><span style=\"color: #00af00; text-decoration-color: #00af00\">4,714,673</span> (17.99 MB)\n",
       "</pre>\n"
      ],
      "text/plain": [
       "\u001b[1m Total params: \u001b[0m\u001b[38;5;34m4,714,673\u001b[0m (17.99 MB)\n"
      ]
     },
     "metadata": {},
     "output_type": "display_data"
    },
    {
     "data": {
      "text/html": [
       "<pre style=\"white-space:pre;overflow-x:auto;line-height:normal;font-family:Menlo,'DejaVu Sans Mono',consolas,'Courier New',monospace\"><span style=\"font-weight: bold\"> Trainable params: </span><span style=\"color: #00af00; text-decoration-color: #00af00\">3,951,782</span> (15.07 MB)\n",
       "</pre>\n"
      ],
      "text/plain": [
       "\u001b[1m Trainable params: \u001b[0m\u001b[38;5;34m3,951,782\u001b[0m (15.07 MB)\n"
      ]
     },
     "metadata": {},
     "output_type": "display_data"
    },
    {
     "data": {
      "text/html": [
       "<pre style=\"white-space:pre;overflow-x:auto;line-height:normal;font-family:Menlo,'DejaVu Sans Mono',consolas,'Courier New',monospace\"><span style=\"font-weight: bold\"> Non-trainable params: </span><span style=\"color: #00af00; text-decoration-color: #00af00\">762,891</span> (2.91 MB)\n",
       "</pre>\n"
      ],
      "text/plain": [
       "\u001b[1m Non-trainable params: \u001b[0m\u001b[38;5;34m762,891\u001b[0m (2.91 MB)\n"
      ]
     },
     "metadata": {},
     "output_type": "display_data"
    },
    {
     "name": "stdout",
     "output_type": "stream",
     "text": [
      "Epoch 1/30\n",
      "\u001b[1m29/29\u001b[0m \u001b[32m━━━━━━━━━━━━━━━━━━━━\u001b[0m\u001b[37m\u001b[0m \u001b[1m0s\u001b[0m 2s/step - cat_output_accuracy: 0.7495 - cat_output_f1_score: 0.7036 - cat_output_loss: 0.5612 - loss: 1.5045 - subcat_output_accuracy: 0.3029 - subcat_output_f1_score: 0.2168 - subcat_output_loss: 0.9433"
     ]
    },
    {
     "name": "stderr",
     "output_type": "stream",
     "text": [
      "c:\\Users\\AI-DEL\\anaconda3\\Lib\\site-packages\\keras\\src\\trainers\\epoch_iterator.py:160: UserWarning: Your input ran out of data; interrupting training. Make sure that your dataset or generator can generate at least `steps_per_epoch * epochs` batches. You may need to use the `.repeat()` function when building your dataset.\n",
      "  self._interrupted_warning()\n",
      "c:\\Users\\AI-DEL\\anaconda3\\Lib\\site-packages\\keras\\src\\callbacks\\model_checkpoint.py:302: UserWarning: Can save best model only with val_subcat_output_f1_score available.\n",
      "  if self._should_save_model(epoch, batch, logs, filepath):\n",
      "WARNING:absl:You are saving your model as an HDF5 file via `model.save()` or `keras.saving.save_model(model)`. This file format is considered legacy. We recommend using instead the native Keras format, e.g. `model.save('my_model.keras')` or `keras.saving.save_model(model, 'my_model.keras')`. \n"
     ]
    },
    {
     "name": "stdout",
     "output_type": "stream",
     "text": [
      "\u001b[1m29/29\u001b[0m \u001b[32m━━━━━━━━━━━━━━━━━━━━\u001b[0m\u001b[37m\u001b[0m \u001b[1m93s\u001b[0m 2s/step - cat_output_accuracy: 0.7535 - cat_output_f1_score: 0.7062 - cat_output_loss: 0.5566 - loss: 1.4968 - subcat_output_accuracy: 0.3079 - subcat_output_f1_score: 0.2183 - subcat_output_loss: 0.9403 - learning_rate: 5.0000e-04\n",
      "Epoch 2/30\n"
     ]
    },
    {
     "name": "stderr",
     "output_type": "stream",
     "text": [
      "c:\\Users\\AI-DEL\\anaconda3\\Lib\\site-packages\\keras\\src\\callbacks\\early_stopping.py:153: UserWarning: Early stopping conditioned on metric `val_subcat_output_f1_score` which is not available. Available metrics are: cat_output_accuracy,cat_output_f1_score,cat_output_loss,loss,subcat_output_accuracy,subcat_output_f1_score,subcat_output_loss\n",
      "  current = self.get_monitor_value(logs)\n",
      "c:\\Users\\AI-DEL\\anaconda3\\Lib\\site-packages\\keras\\src\\callbacks\\callback_list.py:145: UserWarning: Learning rate reduction is conditioned on metric `val_loss` which is not available. Available metrics are: cat_output_accuracy,cat_output_f1_score,cat_output_loss,loss,subcat_output_accuracy,subcat_output_f1_score,subcat_output_loss,learning_rate.\n",
      "  callback.on_epoch_end(epoch, logs)\n"
     ]
    },
    {
     "name": "stdout",
     "output_type": "stream",
     "text": [
      "\u001b[1m29/29\u001b[0m \u001b[32m━━━━━━━━━━━━━━━━━━━━\u001b[0m\u001b[37m\u001b[0m \u001b[1m0s\u001b[0m 2s/step - cat_output_accuracy: 0.9696 - cat_output_f1_score: 0.9058 - cat_output_loss: 0.1908 - loss: 0.8738 - subcat_output_accuracy: 0.7343 - subcat_output_f1_score: 0.3351 - subcat_output_loss: 0.6830"
     ]
    },
    {
     "name": "stderr",
     "output_type": "stream",
     "text": [
      "WARNING:absl:You are saving your model as an HDF5 file via `model.save()` or `keras.saving.save_model(model)`. This file format is considered legacy. We recommend using instead the native Keras format, e.g. `model.save('my_model.keras')` or `keras.saving.save_model(model, 'my_model.keras')`. \n"
     ]
    },
    {
     "name": "stdout",
     "output_type": "stream",
     "text": [
      "\u001b[1m29/29\u001b[0m \u001b[32m━━━━━━━━━━━━━━━━━━━━\u001b[0m\u001b[37m\u001b[0m \u001b[1m60s\u001b[0m 2s/step - cat_output_accuracy: 0.9695 - cat_output_f1_score: 0.9059 - cat_output_loss: 0.1908 - loss: 0.8728 - subcat_output_accuracy: 0.7357 - subcat_output_f1_score: 0.3355 - subcat_output_loss: 0.6820 - learning_rate: 5.0000e-04\n",
      "Epoch 3/30\n",
      "\u001b[1m29/29\u001b[0m \u001b[32m━━━━━━━━━━━━━━━━━━━━\u001b[0m\u001b[37m\u001b[0m \u001b[1m0s\u001b[0m 2s/step - cat_output_accuracy: 0.9871 - cat_output_f1_score: 0.9439 - cat_output_loss: 0.1164 - loss: 0.6610 - subcat_output_accuracy: 0.8289 - subcat_output_f1_score: 0.3938 - subcat_output_loss: 0.5445"
     ]
    },
    {
     "name": "stderr",
     "output_type": "stream",
     "text": [
      "WARNING:absl:You are saving your model as an HDF5 file via `model.save()` or `keras.saving.save_model(model)`. This file format is considered legacy. We recommend using instead the native Keras format, e.g. `model.save('my_model.keras')` or `keras.saving.save_model(model, 'my_model.keras')`. \n"
     ]
    },
    {
     "name": "stdout",
     "output_type": "stream",
     "text": [
      "\u001b[1m29/29\u001b[0m \u001b[32m━━━━━━━━━━━━━━━━━━━━\u001b[0m\u001b[37m\u001b[0m \u001b[1m55s\u001b[0m 2s/step - cat_output_accuracy: 0.9869 - cat_output_f1_score: 0.9440 - cat_output_loss: 0.1163 - loss: 0.6606 - subcat_output_accuracy: 0.8289 - subcat_output_f1_score: 0.3940 - subcat_output_loss: 0.5442 - learning_rate: 5.0000e-04\n",
      "Epoch 4/30\n",
      "\u001b[1m29/29\u001b[0m \u001b[32m━━━━━━━━━━━━━━━━━━━━\u001b[0m\u001b[37m\u001b[0m \u001b[1m0s\u001b[0m 2s/step - cat_output_accuracy: 0.9882 - cat_output_f1_score: 0.9767 - cat_output_loss: 0.0756 - loss: 0.5471 - subcat_output_accuracy: 0.8710 - subcat_output_f1_score: 0.4574 - subcat_output_loss: 0.4715"
     ]
    },
    {
     "name": "stderr",
     "output_type": "stream",
     "text": [
      "WARNING:absl:You are saving your model as an HDF5 file via `model.save()` or `keras.saving.save_model(model)`. This file format is considered legacy. We recommend using instead the native Keras format, e.g. `model.save('my_model.keras')` or `keras.saving.save_model(model, 'my_model.keras')`. \n"
     ]
    },
    {
     "name": "stdout",
     "output_type": "stream",
     "text": [
      "\u001b[1m29/29\u001b[0m \u001b[32m━━━━━━━━━━━━━━━━━━━━\u001b[0m\u001b[37m\u001b[0m \u001b[1m61s\u001b[0m 2s/step - cat_output_accuracy: 0.9884 - cat_output_f1_score: 0.9766 - cat_output_loss: 0.0755 - loss: 0.5467 - subcat_output_accuracy: 0.8712 - subcat_output_f1_score: 0.4576 - subcat_output_loss: 0.4711 - learning_rate: 5.0000e-04\n",
      "Epoch 5/30\n",
      "\u001b[1m29/29\u001b[0m \u001b[32m━━━━━━━━━━━━━━━━━━━━\u001b[0m\u001b[37m\u001b[0m \u001b[1m0s\u001b[0m 2s/step - cat_output_accuracy: 0.9926 - cat_output_f1_score: 0.9821 - cat_output_loss: 0.0452 - loss: 0.4433 - subcat_output_accuracy: 0.9095 - subcat_output_f1_score: 0.5070 - subcat_output_loss: 0.3981"
     ]
    },
    {
     "name": "stderr",
     "output_type": "stream",
     "text": [
      "WARNING:absl:You are saving your model as an HDF5 file via `model.save()` or `keras.saving.save_model(model)`. This file format is considered legacy. We recommend using instead the native Keras format, e.g. `model.save('my_model.keras')` or `keras.saving.save_model(model, 'my_model.keras')`. \n"
     ]
    },
    {
     "name": "stdout",
     "output_type": "stream",
     "text": [
      "\u001b[1m29/29\u001b[0m \u001b[32m━━━━━━━━━━━━━━━━━━━━\u001b[0m\u001b[37m\u001b[0m \u001b[1m55s\u001b[0m 2s/step - cat_output_accuracy: 0.9926 - cat_output_f1_score: 0.9821 - cat_output_loss: 0.0454 - loss: 0.4431 - subcat_output_accuracy: 0.9093 - subcat_output_f1_score: 0.5073 - subcat_output_loss: 0.3978 - learning_rate: 5.0000e-04\n",
      "Epoch 6/30\n",
      "\u001b[1m29/29\u001b[0m \u001b[32m━━━━━━━━━━━━━━━━━━━━\u001b[0m\u001b[37m\u001b[0m \u001b[1m0s\u001b[0m 2s/step - cat_output_accuracy: 0.9892 - cat_output_f1_score: 0.9808 - cat_output_loss: 0.0620 - loss: 0.4149 - subcat_output_accuracy: 0.9242 - subcat_output_f1_score: 0.5498 - subcat_output_loss: 0.3530"
     ]
    },
    {
     "name": "stderr",
     "output_type": "stream",
     "text": [
      "WARNING:absl:You are saving your model as an HDF5 file via `model.save()` or `keras.saving.save_model(model)`. This file format is considered legacy. We recommend using instead the native Keras format, e.g. `model.save('my_model.keras')` or `keras.saving.save_model(model, 'my_model.keras')`. \n"
     ]
    },
    {
     "name": "stdout",
     "output_type": "stream",
     "text": [
      "\u001b[1m29/29\u001b[0m \u001b[32m━━━━━━━━━━━━━━━━━━━━\u001b[0m\u001b[37m\u001b[0m \u001b[1m61s\u001b[0m 2s/step - cat_output_accuracy: 0.9892 - cat_output_f1_score: 0.9809 - cat_output_loss: 0.0617 - loss: 0.4141 - subcat_output_accuracy: 0.9241 - subcat_output_f1_score: 0.5503 - subcat_output_loss: 0.3524 - learning_rate: 5.0000e-04\n",
      "Epoch 7/30\n",
      "\u001b[1m29/29\u001b[0m \u001b[32m━━━━━━━━━━━━━━━━━━━━\u001b[0m\u001b[37m\u001b[0m \u001b[1m0s\u001b[0m 2s/step - cat_output_accuracy: 0.9970 - cat_output_f1_score: 0.9917 - cat_output_loss: 0.0333 - loss: 0.3213 - subcat_output_accuracy: 0.9468 - subcat_output_f1_score: 0.6153 - subcat_output_loss: 0.2880"
     ]
    },
    {
     "name": "stderr",
     "output_type": "stream",
     "text": [
      "WARNING:absl:You are saving your model as an HDF5 file via `model.save()` or `keras.saving.save_model(model)`. This file format is considered legacy. We recommend using instead the native Keras format, e.g. `model.save('my_model.keras')` or `keras.saving.save_model(model, 'my_model.keras')`. \n"
     ]
    },
    {
     "name": "stdout",
     "output_type": "stream",
     "text": [
      "\u001b[1m29/29\u001b[0m \u001b[32m━━━━━━━━━━━━━━━━━━━━\u001b[0m\u001b[37m\u001b[0m \u001b[1m64s\u001b[0m 2s/step - cat_output_accuracy: 0.9970 - cat_output_f1_score: 0.9917 - cat_output_loss: 0.0332 - loss: 0.3209 - subcat_output_accuracy: 0.9465 - subcat_output_f1_score: 0.6156 - subcat_output_loss: 0.2877 - learning_rate: 5.0000e-04\n",
      "Epoch 8/30\n",
      "\u001b[1m29/29\u001b[0m \u001b[32m━━━━━━━━━━━━━━━━━━━━\u001b[0m\u001b[37m\u001b[0m \u001b[1m0s\u001b[0m 2s/step - cat_output_accuracy: 0.9978 - cat_output_f1_score: 0.9960 - cat_output_loss: 0.0198 - loss: 0.2641 - subcat_output_accuracy: 0.9566 - subcat_output_f1_score: 0.6867 - subcat_output_loss: 0.2443"
     ]
    },
    {
     "name": "stderr",
     "output_type": "stream",
     "text": [
      "WARNING:absl:You are saving your model as an HDF5 file via `model.save()` or `keras.saving.save_model(model)`. This file format is considered legacy. We recommend using instead the native Keras format, e.g. `model.save('my_model.keras')` or `keras.saving.save_model(model, 'my_model.keras')`. \n"
     ]
    },
    {
     "name": "stdout",
     "output_type": "stream",
     "text": [
      "\u001b[1m29/29\u001b[0m \u001b[32m━━━━━━━━━━━━━━━━━━━━\u001b[0m\u001b[37m\u001b[0m \u001b[1m64s\u001b[0m 2s/step - cat_output_accuracy: 0.9978 - cat_output_f1_score: 0.9960 - cat_output_loss: 0.0199 - loss: 0.2640 - subcat_output_accuracy: 0.9562 - subcat_output_f1_score: 0.6870 - subcat_output_loss: 0.2441 - learning_rate: 5.0000e-04\n",
      "Epoch 9/30\n",
      "\u001b[1m29/29\u001b[0m \u001b[32m━━━━━━━━━━━━━━━━━━━━\u001b[0m\u001b[37m\u001b[0m \u001b[1m0s\u001b[0m 2s/step - cat_output_accuracy: 0.9940 - cat_output_f1_score: 0.9841 - cat_output_loss: 0.0515 - loss: 0.2662 - subcat_output_accuracy: 0.9388 - subcat_output_f1_score: 0.7161 - subcat_output_loss: 0.2147"
     ]
    },
    {
     "name": "stderr",
     "output_type": "stream",
     "text": [
      "WARNING:absl:You are saving your model as an HDF5 file via `model.save()` or `keras.saving.save_model(model)`. This file format is considered legacy. We recommend using instead the native Keras format, e.g. `model.save('my_model.keras')` or `keras.saving.save_model(model, 'my_model.keras')`. \n"
     ]
    },
    {
     "name": "stdout",
     "output_type": "stream",
     "text": [
      "\u001b[1m29/29\u001b[0m \u001b[32m━━━━━━━━━━━━━━━━━━━━\u001b[0m\u001b[37m\u001b[0m \u001b[1m62s\u001b[0m 2s/step - cat_output_accuracy: 0.9940 - cat_output_f1_score: 0.9842 - cat_output_loss: 0.0514 - loss: 0.2661 - subcat_output_accuracy: 0.9390 - subcat_output_f1_score: 0.7163 - subcat_output_loss: 0.2147 - learning_rate: 5.0000e-04\n",
      "Epoch 10/30\n",
      "\u001b[1m29/29\u001b[0m \u001b[32m━━━━━━━━━━━━━━━━━━━━\u001b[0m\u001b[37m\u001b[0m \u001b[1m0s\u001b[0m 2s/step - cat_output_accuracy: 0.9986 - cat_output_f1_score: 0.9872 - cat_output_loss: 0.0340 - loss: 0.2167 - subcat_output_accuracy: 0.9437 - subcat_output_f1_score: 0.7580 - subcat_output_loss: 0.1826"
     ]
    },
    {
     "name": "stderr",
     "output_type": "stream",
     "text": [
      "WARNING:absl:You are saving your model as an HDF5 file via `model.save()` or `keras.saving.save_model(model)`. This file format is considered legacy. We recommend using instead the native Keras format, e.g. `model.save('my_model.keras')` or `keras.saving.save_model(model, 'my_model.keras')`. \n"
     ]
    },
    {
     "name": "stdout",
     "output_type": "stream",
     "text": [
      "\u001b[1m29/29\u001b[0m \u001b[32m━━━━━━━━━━━━━━━━━━━━\u001b[0m\u001b[37m\u001b[0m \u001b[1m62s\u001b[0m 2s/step - cat_output_accuracy: 0.9986 - cat_output_f1_score: 0.9874 - cat_output_loss: 0.0338 - loss: 0.2161 - subcat_output_accuracy: 0.9439 - subcat_output_f1_score: 0.7584 - subcat_output_loss: 0.1824 - learning_rate: 5.0000e-04\n",
      "Epoch 11/30\n",
      "\u001b[1m29/29\u001b[0m \u001b[32m━━━━━━━━━━━━━━━━━━━━\u001b[0m\u001b[37m\u001b[0m \u001b[1m0s\u001b[0m 2s/step - cat_output_accuracy: 0.9997 - cat_output_f1_score: 0.9954 - cat_output_loss: 0.0243 - loss: 0.1815 - subcat_output_accuracy: 0.9767 - subcat_output_f1_score: 0.8057 - subcat_output_loss: 0.1573"
     ]
    },
    {
     "name": "stderr",
     "output_type": "stream",
     "text": [
      "WARNING:absl:You are saving your model as an HDF5 file via `model.save()` or `keras.saving.save_model(model)`. This file format is considered legacy. We recommend using instead the native Keras format, e.g. `model.save('my_model.keras')` or `keras.saving.save_model(model, 'my_model.keras')`. \n"
     ]
    },
    {
     "name": "stdout",
     "output_type": "stream",
     "text": [
      "\u001b[1m29/29\u001b[0m \u001b[32m━━━━━━━━━━━━━━━━━━━━\u001b[0m\u001b[37m\u001b[0m \u001b[1m64s\u001b[0m 2s/step - cat_output_accuracy: 0.9996 - cat_output_f1_score: 0.9953 - cat_output_loss: 0.0246 - loss: 0.1816 - subcat_output_accuracy: 0.9768 - subcat_output_f1_score: 0.8063 - subcat_output_loss: 0.1570 - learning_rate: 5.0000e-04\n",
      "Epoch 12/30\n",
      "\u001b[1m29/29\u001b[0m \u001b[32m━━━━━━━━━━━━━━━━━━━━\u001b[0m\u001b[37m\u001b[0m \u001b[1m0s\u001b[0m 2s/step - cat_output_accuracy: 0.9989 - cat_output_f1_score: 0.9859 - cat_output_loss: 0.0307 - loss: 0.1686 - subcat_output_accuracy: 0.9631 - subcat_output_f1_score: 0.8362 - subcat_output_loss: 0.1379"
     ]
    },
    {
     "name": "stderr",
     "output_type": "stream",
     "text": [
      "WARNING:absl:You are saving your model as an HDF5 file via `model.save()` or `keras.saving.save_model(model)`. This file format is considered legacy. We recommend using instead the native Keras format, e.g. `model.save('my_model.keras')` or `keras.saving.save_model(model, 'my_model.keras')`. \n"
     ]
    },
    {
     "name": "stdout",
     "output_type": "stream",
     "text": [
      "\u001b[1m29/29\u001b[0m \u001b[32m━━━━━━━━━━━━━━━━━━━━\u001b[0m\u001b[37m\u001b[0m \u001b[1m64s\u001b[0m 2s/step - cat_output_accuracy: 0.9989 - cat_output_f1_score: 0.9860 - cat_output_loss: 0.0305 - loss: 0.1682 - subcat_output_accuracy: 0.9631 - subcat_output_f1_score: 0.8364 - subcat_output_loss: 0.1377 - learning_rate: 5.0000e-04\n",
      "Epoch 13/30\n",
      "\u001b[1m29/29\u001b[0m \u001b[32m━━━━━━━━━━━━━━━━━━━━\u001b[0m\u001b[37m\u001b[0m \u001b[1m0s\u001b[0m 2s/step - cat_output_accuracy: 0.9927 - cat_output_f1_score: 0.9817 - cat_output_loss: 0.0497 - loss: 0.1635 - subcat_output_accuracy: 0.9582 - subcat_output_f1_score: 0.8851 - subcat_output_loss: 0.1138"
     ]
    },
    {
     "name": "stderr",
     "output_type": "stream",
     "text": [
      "WARNING:absl:You are saving your model as an HDF5 file via `model.save()` or `keras.saving.save_model(model)`. This file format is considered legacy. We recommend using instead the native Keras format, e.g. `model.save('my_model.keras')` or `keras.saving.save_model(model, 'my_model.keras')`. \n"
     ]
    },
    {
     "name": "stdout",
     "output_type": "stream",
     "text": [
      "\u001b[1m29/29\u001b[0m \u001b[32m━━━━━━━━━━━━━━━━━━━━\u001b[0m\u001b[37m\u001b[0m \u001b[1m63s\u001b[0m 2s/step - cat_output_accuracy: 0.9928 - cat_output_f1_score: 0.9820 - cat_output_loss: 0.0490 - loss: 0.1624 - subcat_output_accuracy: 0.9583 - subcat_output_f1_score: 0.8852 - subcat_output_loss: 0.1135 - learning_rate: 5.0000e-04\n",
      "Epoch 14/30\n",
      "\u001b[1m29/29\u001b[0m \u001b[32m━━━━━━━━━━━━━━━━━━━━\u001b[0m\u001b[37m\u001b[0m \u001b[1m0s\u001b[0m 2s/step - cat_output_accuracy: 1.0000 - cat_output_f1_score: 0.9999 - cat_output_loss: 0.0108 - loss: 0.1073 - subcat_output_accuracy: 0.9700 - subcat_output_f1_score: 0.8985 - subcat_output_loss: 0.0965"
     ]
    },
    {
     "name": "stderr",
     "output_type": "stream",
     "text": [
      "WARNING:absl:You are saving your model as an HDF5 file via `model.save()` or `keras.saving.save_model(model)`. This file format is considered legacy. We recommend using instead the native Keras format, e.g. `model.save('my_model.keras')` or `keras.saving.save_model(model, 'my_model.keras')`. \n"
     ]
    },
    {
     "name": "stdout",
     "output_type": "stream",
     "text": [
      "\u001b[1m29/29\u001b[0m \u001b[32m━━━━━━━━━━━━━━━━━━━━\u001b[0m\u001b[37m\u001b[0m \u001b[1m72s\u001b[0m 2s/step - cat_output_accuracy: 1.0000 - cat_output_f1_score: 0.9999 - cat_output_loss: 0.0108 - loss: 0.1073 - subcat_output_accuracy: 0.9699 - subcat_output_f1_score: 0.8985 - subcat_output_loss: 0.0965 - learning_rate: 5.0000e-04\n",
      "Epoch 15/30\n",
      "\u001b[1m29/29\u001b[0m \u001b[32m━━━━━━━━━━━━━━━━━━━━\u001b[0m\u001b[37m\u001b[0m \u001b[1m0s\u001b[0m 2s/step - cat_output_accuracy: 0.9970 - cat_output_f1_score: 0.9946 - cat_output_loss: 0.0216 - loss: 0.1052 - subcat_output_accuracy: 0.9793 - subcat_output_f1_score: 0.9183 - subcat_output_loss: 0.0836"
     ]
    },
    {
     "name": "stderr",
     "output_type": "stream",
     "text": [
      "WARNING:absl:You are saving your model as an HDF5 file via `model.save()` or `keras.saving.save_model(model)`. This file format is considered legacy. We recommend using instead the native Keras format, e.g. `model.save('my_model.keras')` or `keras.saving.save_model(model, 'my_model.keras')`. \n"
     ]
    },
    {
     "name": "stdout",
     "output_type": "stream",
     "text": [
      "\u001b[1m29/29\u001b[0m \u001b[32m━━━━━━━━━━━━━━━━━━━━\u001b[0m\u001b[37m\u001b[0m \u001b[1m67s\u001b[0m 2s/step - cat_output_accuracy: 0.9970 - cat_output_f1_score: 0.9945 - cat_output_loss: 0.0219 - loss: 0.1055 - subcat_output_accuracy: 0.9791 - subcat_output_f1_score: 0.9183 - subcat_output_loss: 0.0836 - learning_rate: 5.0000e-04\n",
      "Epoch 16/30\n",
      "\u001b[1m29/29\u001b[0m \u001b[32m━━━━━━━━━━━━━━━━━━━━\u001b[0m\u001b[37m\u001b[0m \u001b[1m0s\u001b[0m 2s/step - cat_output_accuracy: 0.9949 - cat_output_f1_score: 0.9940 - cat_output_loss: 0.0252 - loss: 0.1049 - subcat_output_accuracy: 0.9761 - subcat_output_f1_score: 0.8979 - subcat_output_loss: 0.0797"
     ]
    },
    {
     "name": "stderr",
     "output_type": "stream",
     "text": [
      "WARNING:absl:You are saving your model as an HDF5 file via `model.save()` or `keras.saving.save_model(model)`. This file format is considered legacy. We recommend using instead the native Keras format, e.g. `model.save('my_model.keras')` or `keras.saving.save_model(model, 'my_model.keras')`. \n"
     ]
    },
    {
     "name": "stdout",
     "output_type": "stream",
     "text": [
      "\u001b[1m29/29\u001b[0m \u001b[32m━━━━━━━━━━━━━━━━━━━━\u001b[0m\u001b[37m\u001b[0m \u001b[1m63s\u001b[0m 2s/step - cat_output_accuracy: 0.9950 - cat_output_f1_score: 0.9941 - cat_output_loss: 0.0249 - loss: 0.1044 - subcat_output_accuracy: 0.9760 - subcat_output_f1_score: 0.8982 - subcat_output_loss: 0.0795 - learning_rate: 5.0000e-04\n",
      "Epoch 17/30\n",
      "\u001b[1m29/29\u001b[0m \u001b[32m━━━━━━━━━━━━━━━━━━━━\u001b[0m\u001b[37m\u001b[0m \u001b[1m0s\u001b[0m 2s/step - cat_output_accuracy: 0.9994 - cat_output_f1_score: 0.9937 - cat_output_loss: 0.0179 - loss: 0.0884 - subcat_output_accuracy: 0.9818 - subcat_output_f1_score: 0.9219 - subcat_output_loss: 0.0705"
     ]
    },
    {
     "name": "stderr",
     "output_type": "stream",
     "text": [
      "WARNING:absl:You are saving your model as an HDF5 file via `model.save()` or `keras.saving.save_model(model)`. This file format is considered legacy. We recommend using instead the native Keras format, e.g. `model.save('my_model.keras')` or `keras.saving.save_model(model, 'my_model.keras')`. \n"
     ]
    },
    {
     "name": "stdout",
     "output_type": "stream",
     "text": [
      "\u001b[1m29/29\u001b[0m \u001b[32m━━━━━━━━━━━━━━━━━━━━\u001b[0m\u001b[37m\u001b[0m \u001b[1m54s\u001b[0m 2s/step - cat_output_accuracy: 0.9993 - cat_output_f1_score: 0.9937 - cat_output_loss: 0.0179 - loss: 0.0884 - subcat_output_accuracy: 0.9817 - subcat_output_f1_score: 0.9218 - subcat_output_loss: 0.0705 - learning_rate: 5.0000e-04\n",
      "Epoch 18/30\n",
      "\u001b[1m29/29\u001b[0m \u001b[32m━━━━━━━━━━━━━━━━━━━━\u001b[0m\u001b[37m\u001b[0m \u001b[1m0s\u001b[0m 2s/step - cat_output_accuracy: 0.9982 - cat_output_f1_score: 0.9972 - cat_output_loss: 0.0150 - loss: 0.0744 - subcat_output_accuracy: 0.9795 - subcat_output_f1_score: 0.9457 - subcat_output_loss: 0.0594"
     ]
    },
    {
     "name": "stderr",
     "output_type": "stream",
     "text": [
      "WARNING:absl:You are saving your model as an HDF5 file via `model.save()` or `keras.saving.save_model(model)`. This file format is considered legacy. We recommend using instead the native Keras format, e.g. `model.save('my_model.keras')` or `keras.saving.save_model(model, 'my_model.keras')`. \n"
     ]
    },
    {
     "name": "stdout",
     "output_type": "stream",
     "text": [
      "\u001b[1m29/29\u001b[0m \u001b[32m━━━━━━━━━━━━━━━━━━━━\u001b[0m\u001b[37m\u001b[0m \u001b[1m54s\u001b[0m 2s/step - cat_output_accuracy: 0.9981 - cat_output_f1_score: 0.9971 - cat_output_loss: 0.0151 - loss: 0.0745 - subcat_output_accuracy: 0.9794 - subcat_output_f1_score: 0.9456 - subcat_output_loss: 0.0593 - learning_rate: 5.0000e-04\n",
      "Epoch 19/30\n",
      "\u001b[1m29/29\u001b[0m \u001b[32m━━━━━━━━━━━━━━━━━━━━\u001b[0m\u001b[37m\u001b[0m \u001b[1m0s\u001b[0m 2s/step - cat_output_accuracy: 0.9932 - cat_output_f1_score: 0.9922 - cat_output_loss: 0.0216 - loss: 0.0727 - subcat_output_accuracy: 0.9731 - subcat_output_f1_score: 0.9414 - subcat_output_loss: 0.0511"
     ]
    },
    {
     "name": "stderr",
     "output_type": "stream",
     "text": [
      "WARNING:absl:You are saving your model as an HDF5 file via `model.save()` or `keras.saving.save_model(model)`. This file format is considered legacy. We recommend using instead the native Keras format, e.g. `model.save('my_model.keras')` or `keras.saving.save_model(model, 'my_model.keras')`. \n"
     ]
    },
    {
     "name": "stdout",
     "output_type": "stream",
     "text": [
      "\u001b[1m29/29\u001b[0m \u001b[32m━━━━━━━━━━━━━━━━━━━━\u001b[0m\u001b[37m\u001b[0m \u001b[1m54s\u001b[0m 2s/step - cat_output_accuracy: 0.9931 - cat_output_f1_score: 0.9922 - cat_output_loss: 0.0217 - loss: 0.0728 - subcat_output_accuracy: 0.9731 - subcat_output_f1_score: 0.9416 - subcat_output_loss: 0.0511 - learning_rate: 5.0000e-04\n",
      "Epoch 20/30\n",
      "\u001b[1m29/29\u001b[0m \u001b[32m━━━━━━━━━━━━━━━━━━━━\u001b[0m\u001b[37m\u001b[0m \u001b[1m0s\u001b[0m 2s/step - cat_output_accuracy: 1.0000 - cat_output_f1_score: 0.9995 - cat_output_loss: 0.0063 - loss: 0.0443 - subcat_output_accuracy: 0.9919 - subcat_output_f1_score: 0.9735 - subcat_output_loss: 0.0380"
     ]
    },
    {
     "name": "stderr",
     "output_type": "stream",
     "text": [
      "WARNING:absl:You are saving your model as an HDF5 file via `model.save()` or `keras.saving.save_model(model)`. This file format is considered legacy. We recommend using instead the native Keras format, e.g. `model.save('my_model.keras')` or `keras.saving.save_model(model, 'my_model.keras')`. \n"
     ]
    },
    {
     "name": "stdout",
     "output_type": "stream",
     "text": [
      "\u001b[1m29/29\u001b[0m \u001b[32m━━━━━━━━━━━━━━━━━━━━\u001b[0m\u001b[37m\u001b[0m \u001b[1m54s\u001b[0m 2s/step - cat_output_accuracy: 1.0000 - cat_output_f1_score: 0.9994 - cat_output_loss: 0.0064 - loss: 0.0444 - subcat_output_accuracy: 0.9918 - subcat_output_f1_score: 0.9734 - subcat_output_loss: 0.0381 - learning_rate: 5.0000e-04\n",
      "Epoch 21/30\n",
      "\u001b[1m29/29\u001b[0m \u001b[32m━━━━━━━━━━━━━━━━━━━━\u001b[0m\u001b[37m\u001b[0m \u001b[1m0s\u001b[0m 2s/step - cat_output_accuracy: 0.9944 - cat_output_f1_score: 0.9936 - cat_output_loss: 0.0136 - loss: 0.0517 - subcat_output_accuracy: 0.9916 - subcat_output_f1_score: 0.9675 - subcat_output_loss: 0.0381"
     ]
    },
    {
     "name": "stderr",
     "output_type": "stream",
     "text": [
      "WARNING:absl:You are saving your model as an HDF5 file via `model.save()` or `keras.saving.save_model(model)`. This file format is considered legacy. We recommend using instead the native Keras format, e.g. `model.save('my_model.keras')` or `keras.saving.save_model(model, 'my_model.keras')`. \n"
     ]
    },
    {
     "name": "stdout",
     "output_type": "stream",
     "text": [
      "\u001b[1m29/29\u001b[0m \u001b[32m━━━━━━━━━━━━━━━━━━━━\u001b[0m\u001b[37m\u001b[0m \u001b[1m55s\u001b[0m 2s/step - cat_output_accuracy: 0.9944 - cat_output_f1_score: 0.9936 - cat_output_loss: 0.0138 - loss: 0.0518 - subcat_output_accuracy: 0.9915 - subcat_output_f1_score: 0.9675 - subcat_output_loss: 0.0380 - learning_rate: 5.0000e-04\n",
      "Epoch 22/30\n",
      "\u001b[1m29/29\u001b[0m \u001b[32m━━━━━━━━━━━━━━━━━━━━\u001b[0m\u001b[37m\u001b[0m \u001b[1m0s\u001b[0m 2s/step - cat_output_accuracy: 0.9971 - cat_output_f1_score: 0.9945 - cat_output_loss: 0.0126 - loss: 0.0468 - subcat_output_accuracy: 0.9902 - subcat_output_f1_score: 0.9718 - subcat_output_loss: 0.0342"
     ]
    },
    {
     "name": "stderr",
     "output_type": "stream",
     "text": [
      "WARNING:absl:You are saving your model as an HDF5 file via `model.save()` or `keras.saving.save_model(model)`. This file format is considered legacy. We recommend using instead the native Keras format, e.g. `model.save('my_model.keras')` or `keras.saving.save_model(model, 'my_model.keras')`. \n"
     ]
    },
    {
     "name": "stdout",
     "output_type": "stream",
     "text": [
      "\u001b[1m29/29\u001b[0m \u001b[32m━━━━━━━━━━━━━━━━━━━━\u001b[0m\u001b[37m\u001b[0m \u001b[1m54s\u001b[0m 2s/step - cat_output_accuracy: 0.9972 - cat_output_f1_score: 0.9945 - cat_output_loss: 0.0127 - loss: 0.0469 - subcat_output_accuracy: 0.9900 - subcat_output_f1_score: 0.9717 - subcat_output_loss: 0.0342 - learning_rate: 5.0000e-04\n",
      "Epoch 23/30\n",
      "\u001b[1m29/29\u001b[0m \u001b[32m━━━━━━━━━━━━━━━━━━━━\u001b[0m\u001b[37m\u001b[0m \u001b[1m0s\u001b[0m 2s/step - cat_output_accuracy: 0.9991 - cat_output_f1_score: 0.9979 - cat_output_loss: 0.0097 - loss: 0.0430 - subcat_output_accuracy: 0.9837 - subcat_output_f1_score: 0.9700 - subcat_output_loss: 0.0333"
     ]
    },
    {
     "name": "stderr",
     "output_type": "stream",
     "text": [
      "WARNING:absl:You are saving your model as an HDF5 file via `model.save()` or `keras.saving.save_model(model)`. This file format is considered legacy. We recommend using instead the native Keras format, e.g. `model.save('my_model.keras')` or `keras.saving.save_model(model, 'my_model.keras')`. \n"
     ]
    },
    {
     "name": "stdout",
     "output_type": "stream",
     "text": [
      "\u001b[1m29/29\u001b[0m \u001b[32m━━━━━━━━━━━━━━━━━━━━\u001b[0m\u001b[37m\u001b[0m \u001b[1m54s\u001b[0m 2s/step - cat_output_accuracy: 0.9991 - cat_output_f1_score: 0.9979 - cat_output_loss: 0.0099 - loss: 0.0431 - subcat_output_accuracy: 0.9839 - subcat_output_f1_score: 0.9702 - subcat_output_loss: 0.0332 - learning_rate: 5.0000e-04\n",
      "Epoch 24/30\n",
      "\u001b[1m29/29\u001b[0m \u001b[32m━━━━━━━━━━━━━━━━━━━━\u001b[0m\u001b[37m\u001b[0m \u001b[1m0s\u001b[0m 2s/step - cat_output_accuracy: 0.9988 - cat_output_f1_score: 0.9965 - cat_output_loss: 0.0139 - loss: 0.0463 - subcat_output_accuracy: 0.9822 - subcat_output_f1_score: 0.9697 - subcat_output_loss: 0.0324"
     ]
    },
    {
     "name": "stderr",
     "output_type": "stream",
     "text": [
      "WARNING:absl:You are saving your model as an HDF5 file via `model.save()` or `keras.saving.save_model(model)`. This file format is considered legacy. We recommend using instead the native Keras format, e.g. `model.save('my_model.keras')` or `keras.saving.save_model(model, 'my_model.keras')`. \n"
     ]
    },
    {
     "name": "stdout",
     "output_type": "stream",
     "text": [
      "\u001b[1m29/29\u001b[0m \u001b[32m━━━━━━━━━━━━━━━━━━━━\u001b[0m\u001b[37m\u001b[0m \u001b[1m54s\u001b[0m 2s/step - cat_output_accuracy: 0.9988 - cat_output_f1_score: 0.9965 - cat_output_loss: 0.0138 - loss: 0.0462 - subcat_output_accuracy: 0.9823 - subcat_output_f1_score: 0.9697 - subcat_output_loss: 0.0324 - learning_rate: 5.0000e-04\n",
      "Epoch 25/30\n",
      "\u001b[1m29/29\u001b[0m \u001b[32m━━━━━━━━━━━━━━━━━━━━\u001b[0m\u001b[37m\u001b[0m \u001b[1m0s\u001b[0m 2s/step - cat_output_accuracy: 0.9992 - cat_output_f1_score: 0.9982 - cat_output_loss: 0.0092 - loss: 0.0376 - subcat_output_accuracy: 0.9903 - subcat_output_f1_score: 0.9730 - subcat_output_loss: 0.0285"
     ]
    },
    {
     "name": "stderr",
     "output_type": "stream",
     "text": [
      "WARNING:absl:You are saving your model as an HDF5 file via `model.save()` or `keras.saving.save_model(model)`. This file format is considered legacy. We recommend using instead the native Keras format, e.g. `model.save('my_model.keras')` or `keras.saving.save_model(model, 'my_model.keras')`. \n"
     ]
    },
    {
     "name": "stdout",
     "output_type": "stream",
     "text": [
      "\u001b[1m29/29\u001b[0m \u001b[32m━━━━━━━━━━━━━━━━━━━━\u001b[0m\u001b[37m\u001b[0m \u001b[1m54s\u001b[0m 2s/step - cat_output_accuracy: 0.9991 - cat_output_f1_score: 0.9982 - cat_output_loss: 0.0092 - loss: 0.0376 - subcat_output_accuracy: 0.9902 - subcat_output_f1_score: 0.9733 - subcat_output_loss: 0.0284 - learning_rate: 5.0000e-04\n",
      "Epoch 26/30\n",
      "\u001b[1m29/29\u001b[0m \u001b[32m━━━━━━━━━━━━━━━━━━━━\u001b[0m\u001b[37m\u001b[0m \u001b[1m0s\u001b[0m 2s/step - cat_output_accuracy: 0.9996 - cat_output_f1_score: 0.9988 - cat_output_loss: 0.0060 - loss: 0.0259 - subcat_output_accuracy: 0.9948 - subcat_output_f1_score: 0.9890 - subcat_output_loss: 0.0199"
     ]
    },
    {
     "name": "stderr",
     "output_type": "stream",
     "text": [
      "WARNING:absl:You are saving your model as an HDF5 file via `model.save()` or `keras.saving.save_model(model)`. This file format is considered legacy. We recommend using instead the native Keras format, e.g. `model.save('my_model.keras')` or `keras.saving.save_model(model, 'my_model.keras')`. \n"
     ]
    },
    {
     "name": "stdout",
     "output_type": "stream",
     "text": [
      "\u001b[1m29/29\u001b[0m \u001b[32m━━━━━━━━━━━━━━━━━━━━\u001b[0m\u001b[37m\u001b[0m \u001b[1m54s\u001b[0m 2s/step - cat_output_accuracy: 0.9996 - cat_output_f1_score: 0.9988 - cat_output_loss: 0.0061 - loss: 0.0260 - subcat_output_accuracy: 0.9947 - subcat_output_f1_score: 0.9889 - subcat_output_loss: 0.0200 - learning_rate: 5.0000e-04\n",
      "Epoch 27/30\n",
      "\u001b[1m29/29\u001b[0m \u001b[32m━━━━━━━━━━━━━━━━━━━━\u001b[0m\u001b[37m\u001b[0m \u001b[1m0s\u001b[0m 2s/step - cat_output_accuracy: 0.9968 - cat_output_f1_score: 0.9963 - cat_output_loss: 0.0115 - loss: 0.0349 - subcat_output_accuracy: 0.9920 - subcat_output_f1_score: 0.9756 - subcat_output_loss: 0.0234"
     ]
    },
    {
     "name": "stderr",
     "output_type": "stream",
     "text": [
      "WARNING:absl:You are saving your model as an HDF5 file via `model.save()` or `keras.saving.save_model(model)`. This file format is considered legacy. We recommend using instead the native Keras format, e.g. `model.save('my_model.keras')` or `keras.saving.save_model(model, 'my_model.keras')`. \n"
     ]
    },
    {
     "name": "stdout",
     "output_type": "stream",
     "text": [
      "\u001b[1m29/29\u001b[0m \u001b[32m━━━━━━━━━━━━━━━━━━━━\u001b[0m\u001b[37m\u001b[0m \u001b[1m54s\u001b[0m 2s/step - cat_output_accuracy: 0.9969 - cat_output_f1_score: 0.9963 - cat_output_loss: 0.0114 - loss: 0.0348 - subcat_output_accuracy: 0.9921 - subcat_output_f1_score: 0.9758 - subcat_output_loss: 0.0234 - learning_rate: 5.0000e-04\n",
      "Epoch 28/30\n",
      "\u001b[1m29/29\u001b[0m \u001b[32m━━━━━━━━━━━━━━━━━━━━\u001b[0m\u001b[37m\u001b[0m \u001b[1m0s\u001b[0m 2s/step - cat_output_accuracy: 0.9987 - cat_output_f1_score: 0.9986 - cat_output_loss: 0.0042 - loss: 0.0218 - subcat_output_accuracy: 0.9951 - subcat_output_f1_score: 0.9890 - subcat_output_loss: 0.0176"
     ]
    },
    {
     "name": "stderr",
     "output_type": "stream",
     "text": [
      "WARNING:absl:You are saving your model as an HDF5 file via `model.save()` or `keras.saving.save_model(model)`. This file format is considered legacy. We recommend using instead the native Keras format, e.g. `model.save('my_model.keras')` or `keras.saving.save_model(model, 'my_model.keras')`. \n"
     ]
    },
    {
     "name": "stdout",
     "output_type": "stream",
     "text": [
      "\u001b[1m29/29\u001b[0m \u001b[32m━━━━━━━━━━━━━━━━━━━━\u001b[0m\u001b[37m\u001b[0m \u001b[1m54s\u001b[0m 2s/step - cat_output_accuracy: 0.9987 - cat_output_f1_score: 0.9986 - cat_output_loss: 0.0042 - loss: 0.0218 - subcat_output_accuracy: 0.9951 - subcat_output_f1_score: 0.9889 - subcat_output_loss: 0.0176 - learning_rate: 5.0000e-04\n",
      "Epoch 29/30\n",
      "\u001b[1m29/29\u001b[0m \u001b[32m━━━━━━━━━━━━━━━━━━━━\u001b[0m\u001b[37m\u001b[0m \u001b[1m0s\u001b[0m 2s/step - cat_output_accuracy: 0.9968 - cat_output_f1_score: 0.9978 - cat_output_loss: 0.0079 - loss: 0.0270 - subcat_output_accuracy: 0.9944 - subcat_output_f1_score: 0.9849 - subcat_output_loss: 0.0190"
     ]
    },
    {
     "name": "stderr",
     "output_type": "stream",
     "text": [
      "WARNING:absl:You are saving your model as an HDF5 file via `model.save()` or `keras.saving.save_model(model)`. This file format is considered legacy. We recommend using instead the native Keras format, e.g. `model.save('my_model.keras')` or `keras.saving.save_model(model, 'my_model.keras')`. \n"
     ]
    },
    {
     "name": "stdout",
     "output_type": "stream",
     "text": [
      "\u001b[1m29/29\u001b[0m \u001b[32m━━━━━━━━━━━━━━━━━━━━\u001b[0m\u001b[37m\u001b[0m \u001b[1m54s\u001b[0m 2s/step - cat_output_accuracy: 0.9969 - cat_output_f1_score: 0.9978 - cat_output_loss: 0.0078 - loss: 0.0268 - subcat_output_accuracy: 0.9944 - subcat_output_f1_score: 0.9849 - subcat_output_loss: 0.0190 - learning_rate: 5.0000e-04\n",
      "Epoch 30/30\n",
      "\u001b[1m29/29\u001b[0m \u001b[32m━━━━━━━━━━━━━━━━━━━━\u001b[0m\u001b[37m\u001b[0m \u001b[1m0s\u001b[0m 2s/step - cat_output_accuracy: 1.0000 - cat_output_f1_score: 0.9958 - cat_output_loss: 0.0112 - loss: 0.0278 - subcat_output_accuracy: 0.9963 - subcat_output_f1_score: 0.9861 - subcat_output_loss: 0.0166"
     ]
    },
    {
     "name": "stderr",
     "output_type": "stream",
     "text": [
      "WARNING:absl:You are saving your model as an HDF5 file via `model.save()` or `keras.saving.save_model(model)`. This file format is considered legacy. We recommend using instead the native Keras format, e.g. `model.save('my_model.keras')` or `keras.saving.save_model(model, 'my_model.keras')`. \n"
     ]
    },
    {
     "name": "stdout",
     "output_type": "stream",
     "text": [
      "\u001b[1m29/29\u001b[0m \u001b[32m━━━━━━━━━━━━━━━━━━━━\u001b[0m\u001b[37m\u001b[0m \u001b[1m54s\u001b[0m 2s/step - cat_output_accuracy: 1.0000 - cat_output_f1_score: 0.9959 - cat_output_loss: 0.0111 - loss: 0.0277 - subcat_output_accuracy: 0.9962 - subcat_output_f1_score: 0.9859 - subcat_output_loss: 0.0166 - learning_rate: 5.0000e-04\n"
     ]
    },
    {
     "name": "stderr",
     "output_type": "stream",
     "text": [
      "WARNING:absl:Compiled the loaded model, but the compiled metrics have yet to be built. `model.compile_metrics` will be empty until you train or evaluate the model.\n"
     ]
    },
    {
     "name": "stdout",
     "output_type": "stream",
     "text": [
      "\u001b[1m1/1\u001b[0m \u001b[32m━━━━━━━━━━━━━━━━━━━━\u001b[0m\u001b[37m\u001b[0m \u001b[1m2s\u001b[0m 2s/step\n",
      "\u001b[1m1/1\u001b[0m \u001b[32m━━━━━━━━━━━━━━━━━━━━\u001b[0m\u001b[37m\u001b[0m \u001b[1m0s\u001b[0m 71ms/step\n",
      "\u001b[1m1/1\u001b[0m \u001b[32m━━━━━━━━━━━━━━━━━━━━\u001b[0m\u001b[37m\u001b[0m \u001b[1m0s\u001b[0m 70ms/step\n",
      "\u001b[1m1/1\u001b[0m \u001b[32m━━━━━━━━━━━━━━━━━━━━\u001b[0m\u001b[37m\u001b[0m \u001b[1m0s\u001b[0m 71ms/step\n",
      "\u001b[1m1/1\u001b[0m \u001b[32m━━━━━━━━━━━━━━━━━━━━\u001b[0m\u001b[37m\u001b[0m \u001b[1m0s\u001b[0m 70ms/step\n",
      "{'categories': ['Страйкбольное оружие'], 'subcategories': ['rifle'], 'category_probabilities': {'Аксессуары и Запчасти': 0.0036617859732359648, 'Снаряжение и защита': 0.0009852994699031115, 'Страйкбольное оружие': 0.9983514547348022}, 'subcategory_probabilities': {'HK': 0.006292761769145727, 'M serias': 0.006835001055151224, 'ak': 0.00799906812608242, 'backpack': 0.011783991940319538, 'helmet': 0.0028981147333979607, 'mashinegun': 0.00692513445392251, 'pistol': 0.0034643891267478466, 'pouch': 0.0049142478965222836, 'rifle': 0.9984733462333679, 'shutgun': 0.030544739216566086, 'vest': 0.0042833611369132996}}\n"
     ]
    }
   ],
   "source": [
    "import os\n",
    "import numpy as np\n",
    "import tensorflow as tf\n",
    "from tensorflow.keras.models import Model\n",
    "from tensorflow.keras.layers import Dense, GlobalAveragePooling2D, Input, Dropout, BatchNormalization\n",
    "from tensorflow.keras.applications import EfficientNetB0\n",
    "from tensorflow.keras.optimizers import Adam\n",
    "from tensorflow.keras.callbacks import ModelCheckpoint, EarlyStopping, ReduceLROnPlateau\n",
    "from tensorflow.keras.layers import RandomFlip, RandomRotation, RandomZoom\n",
    "from sklearn.preprocessing import MultiLabelBinarizer\n",
    "from PIL import Image\n",
    "from sklearn.metrics import precision_recall_curve\n",
    "\n",
    "# Конфигурация\n",
    "DATASET_PATH = 'subcategory_images\\dataset'\n",
    "IMAGE_SIZE = (224, 224)\n",
    "BATCH_SIZE = 32\n",
    "EPOCHS = 30  # Увеличили количество эпох\n",
    "LEARNING_RATE = 0.0005  # Уменьшили learning rate\n",
    "MODEL_SAVE_PATH = 'multi_label_classifier_improved.h5'\n",
    "\n",
    "# Сопоставление подкатегорий с основными категориями\n",
    "SUBCAT_TO_CAT = {\n",
    "    'ak': 'Страйкбольное оружие',\n",
    "    'backpack': 'Снаряжение и защита',\n",
    "    'helmet': 'Снаряжение и защита',\n",
    "    'HK': 'Страйкбольное оружие',\n",
    "    'M serias': 'Страйкбольное оружие',\n",
    "    'mashinegun': 'Страйкбольное оружие',\n",
    "    'pistol': 'Страйкбольное оружие',\n",
    "    'pouch': 'Аксессуары и Запчасти',\n",
    "    'rifle': 'Страйкбольное оружие',\n",
    "    'shutgun': 'Страйкбольное оружие',\n",
    "    'vest': 'Снаряжение и защита'\n",
    "}\n",
    "\n",
    "# Получаем список всех подкатегорий и категорий\n",
    "subcategories = sorted(list(SUBCAT_TO_CAT.keys()))\n",
    "categories = sorted(list(set(SUBCAT_TO_CAT.values())))\n",
    "\n",
    "# Инициализация MultiLabelBinarizer\n",
    "mlb_subcat = MultiLabelBinarizer()\n",
    "mlb_subcat.fit([subcategories])\n",
    "mlb_cat = MultiLabelBinarizer()\n",
    "mlb_cat.fit([categories])\n",
    "\n",
    "# Аугментация данных\n",
    "data_augmentation = tf.keras.Sequential([\n",
    "    RandomFlip(\"horizontal\"),\n",
    "    RandomRotation(0.1),\n",
    "    RandomZoom(0.1),\n",
    "])\n",
    "\n",
    "def load_and_preprocess_data(dataset_path):\n",
    "    image_paths = []\n",
    "    subcat_labels = []\n",
    "    cat_labels = []\n",
    "    \n",
    "    for subcat in subcategories:\n",
    "        subcat_path = os.path.join(dataset_path, subcat)\n",
    "        if not os.path.exists(subcat_path):\n",
    "            continue\n",
    "            \n",
    "        cat = SUBCAT_TO_CAT[subcat]\n",
    "        for image_name in os.listdir(subcat_path):\n",
    "            image_path = os.path.join(subcat_path, image_name)\n",
    "            image_paths.append(image_path)\n",
    "            subcat_labels.append([subcat])\n",
    "            cat_labels.append([cat])\n",
    "    \n",
    "    subcat_labels = mlb_subcat.transform(subcat_labels)\n",
    "    cat_labels = mlb_cat.transform(cat_labels)\n",
    "    \n",
    "    return image_paths, subcat_labels, cat_labels\n",
    "\n",
    "# Загрузка данных\n",
    "image_paths, subcat_labels, cat_labels = load_and_preprocess_data(DATASET_PATH)\n",
    "\n",
    "# Создание tf.data.Dataset с аугментацией\n",
    "def process_data(item):\n",
    "    image = tf.io.read_file(item['image_path'])\n",
    "    image = tf.image.decode_jpeg(image, channels=3)\n",
    "    image = tf.image.resize(image, IMAGE_SIZE)\n",
    "    image = data_augmentation(image)  # Применяем аугментацию\n",
    "    image = tf.keras.applications.efficientnet.preprocess_input(image)\n",
    "    return image, (item['subcat_label'], item['cat_label'])\n",
    "\n",
    "dataset = tf.data.Dataset.from_tensor_slices({\n",
    "    'image_path': image_paths,\n",
    "    'subcat_label': subcat_labels,\n",
    "    'cat_label': cat_labels\n",
    "})\n",
    "\n",
    "dataset = dataset.map(process_data, num_parallel_calls=tf.data.AUTOTUNE)\n",
    "dataset = dataset.shuffle(buffer_size=len(image_paths))\n",
    "dataset = dataset.batch(BATCH_SIZE)\n",
    "dataset = dataset.prefetch(buffer_size=tf.data.AUTOTUNE)\n",
    "\n",
    "# Разделение на train/validation\n",
    "train_size = int(0.8 * len(image_paths))\n",
    "train_dataset = dataset.take(train_size)\n",
    "val_dataset = dataset.skip(train_size)\n",
    "\n",
    "# Обновленная версия f1_score\n",
    "def f1_score(y_true, y_pred, threshold=0.5):\n",
    "    y_pred = tf.cast(y_pred > threshold, tf.float32)\n",
    "    y_true = tf.cast(y_true, tf.float32)  # Добавляем приведение типа\n",
    "    tp = tf.reduce_sum(y_true * y_pred)\n",
    "    precision = tp / (tf.reduce_sum(y_pred) + 1e-7)\n",
    "    recall = tp / (tf.reduce_sum(y_true) + 1e-7)\n",
    "    return 2 * (precision * recall) / (precision + recall + 1e-7)\n",
    "\n",
    "# Создание модели с улучшенной архитектурой\n",
    "def create_model(num_subcategories, num_categories):\n",
    "    base_model = EfficientNetB0(weights='imagenet', include_top=False, input_shape=(*IMAGE_SIZE, 3))\n",
    "    \n",
    "    # Замораживаем первые 150 слоев\n",
    "    for layer in base_model.layers[:150]:\n",
    "        layer.trainable = False\n",
    "    \n",
    "    inputs = Input(shape=(*IMAGE_SIZE, 3))\n",
    "    x = base_model(inputs)\n",
    "    x = GlobalAveragePooling2D()(x)\n",
    "    \n",
    "    # Улучшенная головная часть\n",
    "    x = Dense(512, activation='relu')(x)\n",
    "    x = BatchNormalization()(x)\n",
    "    x = Dropout(0.5)(x)\n",
    "    \n",
    "    subcat_output = Dense(num_subcategories, activation='sigmoid', name='subcat_output')(x)\n",
    "    cat_output = Dense(num_categories, activation='sigmoid', name='cat_output')(x)\n",
    "    \n",
    "    model = Model(inputs=inputs, outputs=[subcat_output, cat_output])\n",
    "    \n",
    "    model.compile(\n",
    "        optimizer=Adam(learning_rate=LEARNING_RATE),\n",
    "        loss={\n",
    "            'subcat_output': 'binary_crossentropy',\n",
    "            'cat_output': 'binary_crossentropy'\n",
    "        },\n",
    "        metrics={\n",
    "            'subcat_output': ['accuracy', f1_score],\n",
    "            'cat_output': ['accuracy', f1_score]\n",
    "        }\n",
    "    )\n",
    "    \n",
    "    return model\n",
    "\n",
    "model = create_model(len(subcategories), len(categories))\n",
    "model.summary()\n",
    "\n",
    "# Коллбэки\n",
    "callbacks = [\n",
    "    ModelCheckpoint(\n",
    "        MODEL_SAVE_PATH, \n",
    "        save_best_only=True, \n",
    "        monitor='val_subcat_output_f1_score', \n",
    "        mode='max'\n",
    "    ),\n",
    "    EarlyStopping(\n",
    "        patience=7, \n",
    "        restore_best_weights=True, \n",
    "        monitor='val_subcat_output_f1_score',\n",
    "        mode='max'  # Явно указываем, что хотим максимизировать F1-score\n",
    "    ),\n",
    "    ReduceLROnPlateau(\n",
    "        monitor='val_loss', \n",
    "        factor=0.2, \n",
    "        patience=3, \n",
    "        min_lr=1e-6,\n",
    "        mode='min'  # Для val_loss используем минимизацию\n",
    "    )\n",
    "]\n",
    "\n",
    "# Обучение\n",
    "history = model.fit(\n",
    "    train_dataset,\n",
    "    validation_data=val_dataset,\n",
    "    epochs=EPOCHS,\n",
    "    callbacks=callbacks\n",
    ")\n",
    "\n",
    "# Функция предсказания с TTA (Test-Time Augmentation)\n",
    "def predict_with_tta(image_path, model, tta_steps=5, threshold=0.5):\n",
    "    img = Image.open(image_path).convert('RGB')\n",
    "    img = img.resize(IMAGE_SIZE)\n",
    "    img_array = np.array(img)\n",
    "    img_array = tf.keras.applications.efficientnet.preprocess_input(img_array)\n",
    "    \n",
    "    subcat_preds = []\n",
    "    cat_preds = []\n",
    "    \n",
    "    for _ in range(tta_steps):\n",
    "        augmented_img = data_augmentation(img_array)\n",
    "        augmented_img = np.expand_dims(augmented_img, axis=0)\n",
    "        subcat_pred, cat_pred = model.predict(augmented_img)\n",
    "        subcat_preds.append(subcat_pred)\n",
    "        cat_preds.append(cat_pred)\n",
    "    \n",
    "    subcat_pred_avg = np.mean(subcat_preds, axis=0)\n",
    "    cat_pred_avg = np.mean(cat_preds, axis=0)\n",
    "    \n",
    "    subcat_indices = np.where(subcat_pred_avg[0] > threshold)[0]\n",
    "    cat_indices = np.where(cat_pred_avg[0] > threshold)[0]\n",
    "    \n",
    "    predicted_subcats = mlb_subcat.classes_[subcat_indices]\n",
    "    predicted_cats = mlb_cat.classes_[cat_indices]\n",
    "    \n",
    "    subcat_probs = {subcat: float(subcat_pred_avg[0][i]) for i, subcat in enumerate(mlb_subcat.classes_)}\n",
    "    cat_probs = {cat: float(cat_pred_avg[0][i]) for i, cat in enumerate(mlb_cat.classes_)}\n",
    "    \n",
    "    return {\n",
    "        'categories': list(predicted_cats),\n",
    "        'subcategories': list(predicted_subcats),\n",
    "        'category_probabilities': cat_probs,\n",
    "        'subcategory_probabilities': subcat_probs\n",
    "    }\n",
    "\n",
    "# Пример использования\n",
    "if __name__ == \"__main__\":\n",
    "    model = tf.keras.models.load_model(MODEL_SAVE_PATH, custom_objects={'f1_score': f1_score})\n",
    "    result = predict_with_tta('тест\\дроб3.jpeg', model)\n",
    "    print(result)"
   ]
  },
  {
   "cell_type": "code",
   "execution_count": 7,
   "id": "a034ad8b",
   "metadata": {},
   "outputs": [
    {
     "name": "stdout",
     "output_type": "stream",
     "text": [
      "\u001b[1m1/1\u001b[0m \u001b[32m━━━━━━━━━━━━━━━━━━━━\u001b[0m\u001b[37m\u001b[0m \u001b[1m0s\u001b[0m 73ms/step\n",
      "\u001b[1m1/1\u001b[0m \u001b[32m━━━━━━━━━━━━━━━━━━━━\u001b[0m\u001b[37m\u001b[0m \u001b[1m0s\u001b[0m 67ms/step\n",
      "\u001b[1m1/1\u001b[0m \u001b[32m━━━━━━━━━━━━━━━━━━━━\u001b[0m\u001b[37m\u001b[0m \u001b[1m0s\u001b[0m 67ms/step\n",
      "\u001b[1m1/1\u001b[0m \u001b[32m━━━━━━━━━━━━━━━━━━━━\u001b[0m\u001b[37m\u001b[0m \u001b[1m0s\u001b[0m 68ms/step\n",
      "\u001b[1m1/1\u001b[0m \u001b[32m━━━━━━━━━━━━━━━━━━━━\u001b[0m\u001b[37m\u001b[0m \u001b[1m0s\u001b[0m 73ms/step\n",
      "{'categories': ['Страйкбольное оружие'], 'subcategories': ['M serias'], 'category_probabilities': {'Аксессуары и Запчасти': 0.0018220817437395453, 'Снаряжение и защита': 0.0002366189582971856, 'Страйкбольное оружие': 0.999935507774353}, 'subcategory_probabilities': {'HK': 0.05416689068078995, 'M serias': 0.5270873308181763, 'ak': 0.0765266865491867, 'backpack': 0.011207496747374535, 'helmet': 0.002302464796230197, 'mashinegun': 0.0039348965510725975, 'pistol': 0.0019907939713448286, 'pouch': 0.00211693299934268, 'rifle': 0.023626241832971573, 'shutgun': 0.010622268542647362, 'vest': 0.0013050779234617949}}\n"
     ]
    }
   ],
   "source": [
    "result = predict_with_tta('тест\\мка ар.webp', model)\n",
    "print(result)"
   ]
  },
  {
   "cell_type": "code",
   "execution_count": null,
   "id": "e623d7c1",
   "metadata": {},
   "outputs": [],
   "source": []
  }
 ],
 "metadata": {
  "kernelspec": {
   "display_name": "base",
   "language": "python",
   "name": "python3"
  },
  "language_info": {
   "codemirror_mode": {
    "name": "ipython",
    "version": 3
   },
   "file_extension": ".py",
   "mimetype": "text/x-python",
   "name": "python",
   "nbconvert_exporter": "python",
   "pygments_lexer": "ipython3",
   "version": "3.12.7"
  }
 },
 "nbformat": 4,
 "nbformat_minor": 5
}
